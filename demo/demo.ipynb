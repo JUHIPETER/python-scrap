{
 "cells": [
  {
   "cell_type": "code",
   "execution_count": 1,
   "id": "24eb8c67",
   "metadata": {},
   "outputs": [
    {
     "name": "stdout",
     "output_type": "stream",
     "text": [
      "Requirement already satisfied: selenium in c:\\python39\\lib\\site-packages (3.141.0)\n",
      "Requirement already satisfied: urllib3 in c:\\python39\\lib\\site-packages (from selenium) (1.26.6)\n",
      "Note: you may need to restart the kernel to use updated packages.\n"
     ]
    },
    {
     "name": "stderr",
     "output_type": "stream",
     "text": [
      "WARNING: You are using pip version 21.1.3; however, version 21.3.1 is available.\n",
      "You should consider upgrading via the 'c:\\python39\\python.exe -m pip install --upgrade pip' command.\n"
     ]
    }
   ],
   "source": [
    "pip install selenium\n"
   ]
  },
  {
   "cell_type": "code",
   "execution_count": 28,
   "id": "38d38c02",
   "metadata": {},
   "outputs": [
    {
     "name": "stdout",
     "output_type": "stream",
     "text": [
      "People | Cravath, Swaine & Moore LLP\n",
      "https://www.cravath.com/people/index.html\n",
      "Michael P. Addis\n",
      "maddis@cravath.com\n",
      "+1-212-474-1956\n",
      "Lauren Angelilli\n",
      "langelilli@cravath.com\n",
      "+1-212-474-1956\n",
      "Craig F. Arcella\n",
      "carcella@cravath.com\n",
      "+1-212-474-1956\n",
      "Kimberley S. Drexler\n",
      "kdrexler@cravath.com\n",
      "+1-212-474-1956\n",
      "Nicole F. Foster\n",
      "nfoster@cravath.com\n",
      "+1-212-474-1956\n",
      "Lillian S. Grossbard\n",
      "lgrossbard@cravath.com\n",
      "+1-212-474-1956\n",
      "Roberto Bruno\n",
      "rbruno@cravath.com\n",
      "+1-212-474-1956\n",
      "Virginie Marier\n",
      "vmarier@cravath.com\n",
      "+1-212-474-1956\n",
      "Margaret R. M. Rallings\n",
      "mrallings@cravath.com\n",
      "+1-212-474-1956\n"
     ]
    }
   ],
   "source": [
    "import selenium\n",
    "from selenium import webdriver\n",
    "import pandas as pd\n",
    "\n",
    "from selenium.webdriver.support.ui import Select\n",
    "import time\n",
    "import  os\n",
    "\n",
    "driverPath = r\"C:\\Users\\Merit\\PycharmProjects\\chrome\\chromedriver_win32 (1)\\chromedriver.exe\"\n",
    "driver = webdriver.Chrome(executable_path = driverPath)\n",
    "driver.get(\"https://www.cravath.com/people/index.html\")\n",
    "print(driver.title)\n",
    "print(driver.current_url)\n",
    "driver.maximize_window()\n",
    "\n",
    "# div1=driver.find_elements_by_xpath(\"/html[1]/body[1]/div[1]/div[1]/div[4]/div[1]/div[2]/div[2]/div[1]/div[2]/div[1]/div[5]/div[1]/div[1]/dl[1]/div[2]\")\n",
    "# # n=div1.find_element_by_class_name(\"type__h3\").text\n",
    "# n=div1.find_element_by_xpath(\"//dd[@class='type__h3']/a'\")\n",
    "# print(n.get_attribute(\"text\"))\n",
    "# WebDriverWait(driver, 20).until(EC.element_to_be_clickable((By.XPATH, \"//body/div[@id='app']/div[1]/div[4]/div[1]/div[2]/div[2]/div[1]/div[3]/p[1]/button[1]\"))).click()\n",
    "# driver.find_element_by_xpath(\"//body/div[@id='app']/div[1]/div[4]/div[1]/div[2]/div[2]/div[1]/div[3]/p[1]/button[1]\").click()\n",
    "\n",
    "driver.find_element_by_xpath(\"//*[contains(@class, 'icon-Close styles__closeButton--03a22cd7')]\").click()\n",
    "\n",
    "driver.find_element_by_xpath(\"//*[contains(@class, 'card-lister-cta__viewAllLink--35010235 type__eyebrow')]\").click()\n",
    "for i in range(1,10):\n",
    "    name=driver.find_element_by_xpath(\"(//*[contains(@class, 'type__h3')])[%d]\"%(i))\n",
    "    mail=driver.find_element_by_xpath(\"(//*[contains(@class, 'color-dodger-blue hover-color-light-navy')])[%d]\"%(i))\n",
    "    tel=driver.find_element_by_xpath(\"//a[@class='color-light-navy hover-color-dodger-blue']\")\n",
    "    print(name.text)\n",
    "    print(mail.text)\n",
    "    print(tel.text)\n",
    "#     mail=driver.find_element_by_xpath(\"(//*[contains(@class, 'color-dodger-blue hover-color-light-navy')])[%d]\"%(i))\n",
    "#    //*[contains(@class, 'color-light-navy hover-color-dodger-blue')]"
   ]
  },
  {
   "cell_type": "code",
   "execution_count": 26,
   "id": "3eb26c6a",
   "metadata": {},
   "outputs": [
    {
     "data": {
      "text/plain": [
       "<selenium.webdriver.remote.webelement.WebElement (session=\"3437e5ae40acf6674040bdb38636757b\", element=\"5c9fda75-f6c2-4b19-92c4-987d4f3d2d4c\")>"
      ]
     },
     "execution_count": 26,
     "metadata": {},
     "output_type": "execute_result"
    }
   ],
   "source": [
    "driver.find_element_by_xpath(\"//a[@class='color-light-navy hover-color-dodger-blue']\")\n",
    "    "
   ]
  },
  {
   "cell_type": "code",
   "execution_count": null,
   "id": "256334ae",
   "metadata": {},
   "outputs": [],
   "source": []
  }
 ],
 "metadata": {
  "kernelspec": {
   "display_name": "Python 3 (ipykernel)",
   "language": "python",
   "name": "python3"
  },
  "language_info": {
   "codemirror_mode": {
    "name": "ipython",
    "version": 3
   },
   "file_extension": ".py",
   "mimetype": "text/x-python",
   "name": "python",
   "nbconvert_exporter": "python",
   "pygments_lexer": "ipython3",
   "version": "3.9.6"
  }
 },
 "nbformat": 4,
 "nbformat_minor": 5
}
